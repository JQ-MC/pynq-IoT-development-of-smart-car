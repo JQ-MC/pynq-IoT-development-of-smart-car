{
 "cells": [
  {
   "cell_type": "markdown",
   "metadata": {},
   "source": [
    "<br>\n",
    "<center> <font size=\"7\" color=\"#0086DD\" aling=\"center\">Development of a smart car using PYNQ</font>\n",
    "\n",
    "<br>\n",
    "<br>\n",
    "<br>\n",
    "    \n",
    "<center> <font size=\"6\" color=\"#0086DD\">Internet of Things (IoT)</font>\n",
    "<br>\n",
    "<br>\n",
    "<br>\n",
    "\n",
    "<center> <font size=\"5\" color=\"#0086DD\">Joaquim Morera & Aarón Montiel</font>\n",
    "<br>\n",
    "<br>\n"
   ]
  },
  {
   "cell_type": "markdown",
   "metadata": {},
   "source": [
    "## 1. Motivation, objectives and materials"
   ]
  },
  {
   "cell_type": "markdown",
   "metadata": {},
   "source": [
    "### 1.1 Motivation"
   ]
  },
  {
   "cell_type": "markdown",
   "metadata": {},
   "source": [
    "We want to provide a car manufacturer IoT solutions to integrate within the services that they offer in order to be more competitive and deliver a better value proposition. \n",
    "\n",
    "We are developing functionalities that assist the car owners when they are driving their car and also when it is parked and away from the user’s vision. These functionalities have been achieved thanks to the sensorization of the vehicle, as well as the monitoring of different aspects of concern to the user such as temperature, brightness, or human presence around the car.\n",
    "\n",
    "A voice service to assist the driver is also implemented using Speech Recognition techniques. In addition, the state of the car is reported periodically to a mobile app when the owner can’t be physically aware of it in order to inform him/her if problems are found. Also, this very app powers on and powers off the vehicle without the need of a physical key.\n"
   ]
  },
  {
   "cell_type": "markdown",
   "metadata": {},
   "source": [
    "### 1.2 Objetives"
   ]
  },
  {
   "cell_type": "markdown",
   "metadata": {},
   "source": [
    "The objectives of this project are the following:\n",
    "- Sensorize and assist accordingly to the needs of a car owner and its vehicle.\n",
    "- Use a communication system that periodically reports the status of the car.\n",
    "- Make use of a voice assistant integrating Speech Recognition.\n"
   ]
  },
  {
   "cell_type": "markdown",
   "metadata": {},
   "source": [
    "### 1.3 Materials"
   ]
  },
  {
   "cell_type": "markdown",
   "metadata": {},
   "source": [
    "To carry out this project, we will need the following hardware and software elements. On the hardware level we have used:\n",
    "\n",
    "- PYNQ-Z2 Development Board  based on Xilinx ZYNQ SoCs [[1]](http://www.pynq.io/board.html). This will be the processor of all tasks.\n",
    "- Arduino adapter shield [[2]](https://www.seeedstudio.com/Base-Shield-V2.html), in order to handle all the sensors and activators.\n",
    "- Microphone. A normal microphone with a Jack connector.\n",
    "- Sensors:\n",
    "    - Water sensor [[3]](https://www.seeedstudio.com/Grove-Water-Sensor.html).\n",
    "    - Temperature sensor [[4]](https://www.seeedstudio.com/Grove-Temperature-Sensor.html)\n",
    "    - Ambient light sensor [[5]](https://www.seeedstudio.com/Grove-Light-Sensor-v1-2-LS06-S-phototransistor.html).\n",
    "    - Motion sensor [[6]](https://www.seeedstudio.com/Grove-PIR-Motion-Sensor.html).\n",
    "- Actuators:\n",
    "    - Buzzer [[7]](https://www.seeedstudio.com/Grove-Buzzer.html).\n",
    "    - Led stick [[8]](https://www.seeedstudio.com/Grove-RGB-LED-Stick-10-WS2813-Mini.html).\n",
    "\n",
    "    \n",
    "At the software level we will use, among other common-use libraries: \n",
    "- MQTT [[9]](https://mqtt.org/) technology as a wireless communication protocol between the different devices.\n",
    "- SpeechRecognition [[10]](https://pypi.org/project/SpeechRecognition/), that provides the ability to convert speech to text.\n",
    "- GTTS [[11]](https://gtts.readthedocs.io/en/latest/), that converts text to speech.\n",
    "- MQTT Dash [[12]](https://play.google.com/store/apps/details?id=net.routix.mqttdash&hl=ca&gl=US), that powers the mobile app and handles MQTT communication."
   ]
  },
  {
   "cell_type": "markdown",
   "metadata": {},
   "source": [
    "## 2. Necessary installations and libraries"
   ]
  },
  {
   "cell_type": "code",
   "execution_count": null,
   "metadata": {},
   "outputs": [],
   "source": [
    "!pip install SpeechRecognition\n",
    "!pip install gTTS\n",
    "!pip install ipython\n",
    "!pip install paho-mqtt\n",
    "!apt-get install flac"
   ]
  },
  {
   "cell_type": "markdown",
   "metadata": {},
   "source": [
    "### 2.1 Checking that the installations have been carried out correctly and importing the necessary libraries."
   ]
  },
  {
   "cell_type": "code",
   "execution_count": null,
   "metadata": {},
   "outputs": [],
   "source": [
    "try:\n",
    "    import speech_recognition as sr\n",
    "except ImportError:\n",
    "    print(\"This script requires the the following module installs: \\n\"\n",
    "          \"1. FLAC : sudo apt-get install flac \\n\"\n",
    "          \"2. portaudio19-dev : sudo apt-get install portaudio19-dev \\n\"\n",
    "          \"3. pyaudio : sudo pip3 install pyaudio\\n\")\n",
    "    print(\"Then install speech_recognition module with: \\n\"\n",
    "         \"sudo pip3 install SpeechRecognition\")\n",
    "try:\n",
    "    from gtts import gTTS\n",
    "except ImportError:\n",
    "    print(\"This script requires the gtts module \\n Install with: sudo \"\n",
    "         \"pip3 install gtts\")\n",
    "    \n",
    "from IPython.display import display, Audio\n",
    "import os\n",
    "import re\n",
    "from time import sleep\n",
    "import json\n",
    "import datetime\n",
    "import paho.mqtt.client as mqtt\n",
    "import sys\n",
    "from pynq.overlays.base import BaseOverlay\n",
    "from pynq_peripherals import ArduinoSEEEDGroveAdapter\n",
    "from time import sleep"
   ]
  },
  {
   "cell_type": "markdown",
   "metadata": {},
   "source": [
    "## 3. Initial Configurations"
   ]
  },
  {
   "cell_type": "markdown",
   "metadata": {},
   "source": [
    "\n",
    "### 3.1 Setting up the MQTT"
   ]
  },
  {
   "cell_type": "code",
   "execution_count": null,
   "metadata": {},
   "outputs": [],
   "source": [
    "host          = \"node02.myqtthub.com\"\n",
    "port          = 1883\n",
    "clean_session = True\n",
    "client_id     = \"client_pynq\"\n",
    "user_name     = \"client_pynq\"\n",
    "password      = \"client_pynq\"\n",
    "\n",
    "#Creating logic functions\n",
    "def on_connect (client, userdata, flags, rc):\n",
    "    \"\"\" Callback called when connection/reconnection is detected \"\"\"\n",
    "    print (\"Connect %s result is: %s\" % (host, rc))\n",
    "\n",
    "    if rc == 0:\n",
    "        client.connected_flag = True\n",
    "        print (\"connected OK\")\n",
    "        return\n",
    "    \n",
    "    print (\"Failed to connect to %s, error was, rc=%s\" % rc)\n",
    "    sys.exit (-1)\n",
    "\n",
    "def on_message(client, userdata, msg):\n",
    "    \"\"\" Callback called for every PUBLISH received \"\"\"\n",
    "    global power\n",
    "    \n",
    "    # If button is on\n",
    "    msg_decoded = str(msg.payload.decode(\"utf-8\"))\n",
    "    \n",
    "    if msg_decoded == \"1\":\n",
    "        power= \"ON\"\n",
    "        metrics = json.dumps({'color': '#86DC3D',\n",
    "                        \"alert_icon\": \"0\",\n",
    "                        \"alert_text\": \"Driving\"})\n",
    "    \n",
    "        client.publish(\"metrics/exchange\", metrics)\n",
    "        client.loop()\n",
    "        \n",
    "    elif msg_decoded == \"0\":\n",
    "        power = \"OFF\"\n",
    "    else:\n",
    "        pass\n",
    "    \n",
    "    return\n",
    "\n",
    "# Define clientId, host, user and password\n",
    "client = mqtt.Client (client_id = client_id, clean_session = clean_session)\n",
    "client.username_pw_set(user_name, password)\n",
    "\n",
    "# Assigning the funcions\n",
    "client.on_connect = on_connect\n",
    "client.on_message = on_message"
   ]
  },
  {
   "cell_type": "markdown",
   "metadata": {},
   "source": [
    "#### 3.1.1. Function to connect the client"
   ]
  },
  {
   "cell_type": "code",
   "execution_count": null,
   "metadata": {},
   "outputs": [],
   "source": [
    "def ClientConnect():\n",
    "    client.connect (host, port, keepalive = 60)\n",
    "    client.connected_flag = False\n",
    "    while not client.connected_flag:\n",
    "        client.loop()\n",
    "        sleep (1)\n",
    "\n",
    "    # Subscription to the topic \"power\" that will tell when the car is on or not.\n",
    "    client.subscribe(\"power\")"
   ]
  },
  {
   "cell_type": "markdown",
   "metadata": {},
   "source": [
    "### 3.2 Setting up the PYNQ with sensors, actuators and microphone "
   ]
  },
  {
   "cell_type": "code",
   "execution_count": null,
   "metadata": {},
   "outputs": [],
   "source": [
    "base = BaseOverlay(\"base.bit\")\n",
    "adapter = ArduinoSEEEDGroveAdapter(base.ARDUINO,\n",
    "                                   A0='grove_temperature',\n",
    "                                   A1 = 'grove_pir',\n",
    "                                   A2 = 'grove_water_sensor',\n",
    "                                   A3 = 'grove_light', \n",
    "                                   D5 = 'grove_servo', \n",
    "                                   D6 = 'grove_buzzer',\n",
    "                                   D4 = 'grove_led_stick')\n",
    "\n",
    "#Sensors\n",
    "temp_sensor = adapter.A0\n",
    "pir_sensor = adapter.A1\n",
    "water_sensor = adapter.A2\n",
    "light_sensor = adapter.A3\n",
    "\n",
    "#Actuators\n",
    "servo = adapter.D5\n",
    "buzzer = adapter.D6\n",
    "ledstick = adapter.D4\n",
    "\n",
    "#Microphone\n",
    "r = sr.Recognizer()\n",
    "pAudio = base.audio\n",
    "pAudio.set_volume(20)\n",
    "pAudio.select_microphone()\n",
    "pAudio.bypass(seconds=5)"
   ]
  },
  {
   "cell_type": "markdown",
   "metadata": {},
   "source": [
    "## 3. Development of the car's functionalities\n",
    "\n",
    "The car we have developed has different functionalities depending on whether the user is driving it or it is parked and the owner can’t be physically aware of it. \n",
    "\n",
    "### 3.1 Driving Mode\n",
    "\n",
    "When it is being driven (Driving mode) the following functionalities are available: "
   ]
  },
  {
   "cell_type": "markdown",
   "metadata": {},
   "source": [
    "#### 3.1.1 Rain Detector\n",
    "\n",
    "When rain is detected, the wiper gets activated automatically.\n"
   ]
  },
  {
   "cell_type": "code",
   "execution_count": null,
   "metadata": {},
   "outputs": [],
   "source": [
    "def RainDetector():\n",
    "    \n",
    "    if not water_sensor.is_dry:\n",
    "        sleep(0.5)\n",
    "        servo.set_angular_position(180)\n",
    "        sleep(0.5)\n",
    "        servo.set_angular_position(0)\n",
    "    \n",
    "    return"
   ]
  },
  {
   "cell_type": "markdown",
   "metadata": {},
   "source": [
    "#### 3.1.2 Headlights Handler\n",
    "\n",
    "Led lights adapt to ambient light in order to achieve a comfortable sight. When the outdoor light gets darker, the LED headlights get brighter.\n"
   ]
  },
  {
   "cell_type": "code",
   "execution_count": null,
   "metadata": {},
   "outputs": [],
   "source": [
    "def Headlights():\n",
    "    \n",
    "    intensity = light_sensor.get_intensity()/100\n",
    "    \n",
    "    id_lights = []\n",
    "    \n",
    "    if intensity > 0.8:\n",
    "        id_lights = [0,9]\n",
    "        \n",
    "    elif intensity > 0.6:\n",
    "        id_lights = [0,9,1,8]\n",
    "        \n",
    "    elif intensity > 0.4:\n",
    "        id_lights = [0,9,1,8,2,7]\n",
    "        \n",
    "    elif intensity > 0.2:\n",
    "        id_lights = [0,9,1,8,2,7,3,6]\n",
    "    \n",
    "    else:\n",
    "        id_lights = [0,9,1,8,2,7,3,6,4,5]\n",
    "        \n",
    "    ledstick.clear()     \n",
    "    for i in id_lights:\n",
    "        ledstick.set_pixel(i, 0xfffff7)\n",
    "          \n",
    "    n_leds = len(id_lights)\n",
    "    \n",
    "    ledstick.show() \n",
    "    sleep(1)\n",
    "    return"
   ]
  },
  {
   "cell_type": "markdown",
   "metadata": {},
   "source": [
    "#### 3.1.3 Parking Assistant\n",
    "\n",
    "It detects the proximity of objects from behind and helps the driver when parking by sending audio warnings. This functionality is activated when the user asks for it, in our case, when a switch (switch 1) is activated.\n"
   ]
  },
  {
   "cell_type": "code",
   "execution_count": null,
   "metadata": {},
   "outputs": [],
   "source": [
    "def ParkingAssistant():\n",
    "    \n",
    "    intensity = light_sensor.get_intensity()/100\n",
    "    \n",
    "    if intensity < 0.7:\n",
    "        buzzer.play_tone(80, 1)\n",
    "        sleep(1* intensity/3)\n",
    "    \n",
    "    return"
   ]
  },
  {
   "cell_type": "markdown",
   "metadata": {},
   "source": [
    "#### 3.1.4 Voice Assistant\n"
   ]
  },
  {
   "cell_type": "markdown",
   "metadata": {},
   "source": [
    "##### 3.1.4.1 Voice Functions"
   ]
  },
  {
   "cell_type": "code",
   "execution_count": null,
   "metadata": {},
   "outputs": [],
   "source": [
    "def temperature():\n",
    "    return f'temperature is {temp_sensor.get_temperature()-25:.2f} degree centigrade'\n",
    "\n",
    "def play_september():\n",
    "    display(Audio((\"data/September_20s.mp3\"), autoplay=True))\n",
    "    sleep(3)\n",
    "\n",
    "def record_voice(seconds):\n",
    "    # Record audio\n",
    "    pAudio.record(seconds)\n",
    "    pAudio.save(\"recording_1.wav\")\n",
    "\n",
    "    # Process audio\n",
    "    harvard = sr.AudioFile('recording_1.wav')\n",
    "    with harvard as source:\n",
    "        audio = r.record(source)\n",
    "    \n",
    "    # Voice recognizer\n",
    "    try:\n",
    "        text_in = r.recognize_google(audio)\n",
    "        return text_in\n",
    "\n",
    "    except:\n",
    "        return  \"---------\"\n",
    "    \n",
    "\n",
    "def t2s(text): #text to sound\n",
    "    try:\n",
    "        tts = gTTS(text=text, lang='en', slow=False)\n",
    "        speech = os.getcwd() + '/output.mp3'\n",
    "        tts.save(speech)  # save a wav file\n",
    "        return speech\n",
    "    except:\n",
    "        tts = gTTS(text=\"Sorry try again\", lang='en', slow=False)\n",
    "        speech = os.getcwd() + '/output.mp3'\n",
    "        tts.save(speech)  # save a wav file\n",
    "        return speech\n",
    "\n",
    "def reply(input_text):\n",
    "    display(Audio(t2s(input_text), autoplay=True))\n",
    "    sleep(3)"
   ]
  },
  {
   "cell_type": "markdown",
   "metadata": {},
   "source": [
    "##### 3.1.4.2 Voice Assistant function\n",
    "\n",
    "When a button is pressed (button 3), a voice assistant responds to the user’s needs. Through the understanding of what the user asks, it provides three different services:\n",
    "\n",
    "- Temperature handler: When the driver asks for a cooler or hotter ambient, the car detects the temperature and responds accordingly.\n",
    "- Hour responder: When the driver asks for the actual hour, the voice assistant responds with the exact hour.\n",
    "- Music Assistant: When the driver asks for music and the car plays a song.\n"
   ]
  },
  {
   "cell_type": "code",
   "execution_count": null,
   "metadata": {},
   "outputs": [],
   "source": [
    "def VoiceAssistant():\n",
    "    reply(\"Hey, what do you need?\")\n",
    "    print(\"--- Speak ---\")\n",
    "    text_in = record_voice(seconds = 2.5)\n",
    "    print(\"Your request: \", text_in)\n",
    "        \n",
    "    if re.search('temperature', text_in):\n",
    "        temp_response = temperature()\n",
    "        reply(temp_response)\n",
    "        sleep(0.8)\n",
    "        reply(\"Do you want the temperature to go up or down?\")\n",
    "        print(\"--- Speak ---\")\n",
    "        text_in = record_voice(seconds = 2.5)\n",
    "        print(\"Your request: \", text_in)\n",
    "        \n",
    "        if re.search('up|Up', text_in):\n",
    "            reply(\"Ok! Warming up the car\")\n",
    "            \n",
    "        elif re.search('down|Down', text_in):\n",
    "            reply(\"Ok! Cooling the car\")\n",
    "        else: \n",
    "            reply(\"Sorry! I didn't understand you\")\n",
    "    \n",
    "    elif re.search('music|Music', text_in):\n",
    "        play_september()\n",
    "        \n",
    "    elif re.search('time|Time', text_in):\n",
    "        now = datetime.datetime.now()\n",
    "        hour = now.hour + 1\n",
    "        mins = now.minute\n",
    "        reply(\"It is \" + str(hour) + \" \" + str(mins))\n",
    "    \n",
    "    else:\n",
    "        reply(\"Sorry, I didn't understand you\")"
   ]
  },
  {
   "cell_type": "markdown",
   "metadata": {},
   "source": [
    "### 3.2 Security Mode \n",
    "\n",
    "Once the car is parked, the security mode will be activated, and real-time information about the car's status will be provided. The functionalities of the Security Mode are:\n",
    "\n"
   ]
  },
  {
   "cell_type": "markdown",
   "metadata": {},
   "source": [
    "#### 3.2.1 Human Presence Detector\n",
    "\n",
    "The car detects if there are objects getting closer to it and it responds with an acoustic and luminous alarm, to scare off intruders."
   ]
  },
  {
   "cell_type": "code",
   "execution_count": null,
   "metadata": {},
   "outputs": [],
   "source": [
    "def HumanDetector():\n",
    "    \n",
    "    motion = pir_sensor.motion_detected()\n",
    "    \n",
    "    if motion:\n",
    "    \n",
    "        ledstick.clear()\n",
    "        sleep(0.5)\n",
    "        buzzer.play_tone(80, 200)\n",
    "        for i in range(10):\n",
    "            ledstick.set_pixel(i, 0xff0000)\n",
    "        ledstick.show()    \n",
    "        buzzer.play_tone(80, 200)\n",
    "        servo.set_angular_position(180)\n",
    "        sleep(0.5)\n",
    "        servo.set_angular_position(0)\n",
    "    \n",
    "    return"
   ]
  },
  {
   "cell_type": "markdown",
   "metadata": {},
   "source": [
    "#### 3.2.2 Metrics Publisher to MQTT\n",
    "\n",
    "The state of the car is reported periodically to a mobile app to inform the user if problems are found. Specifically, it informs of the weather, temperature and human presence through an alert system.\n"
   ]
  },
  {
   "cell_type": "code",
   "execution_count": null,
   "metadata": {},
   "outputs": [],
   "source": [
    "def PublishMetrics():\n",
    "\n",
    "    # Variables\n",
    "    alert_text = \"\"\n",
    "    alert_level = 0\n",
    "    \n",
    "    # --------------- Data collection from the sensors\n",
    "    #Temperature\n",
    "    temp = round(temp_sensor.get_temperature() - 25, 2)\n",
    "    if temp < 0 or temp > 40:\n",
    "        alert_text += \"Anormal temperature\\n\"\n",
    "        alert_level += 1\n",
    "    \n",
    "    #Rain\n",
    "    if water_sensor.is_dry():\n",
    "        rain = \"0\"\n",
    "    else:\n",
    "        rain= \"1\"\n",
    "        alert_text += \"Rain detected\\n\"\n",
    "        alert_level += 1\n",
    "\n",
    "    # Motion\n",
    "    if pir_sensor.motion_detected():\n",
    "        alert_text += \"Motion detected\"\n",
    "        alert_level += 1\n",
    "\n",
    "    # --------------- Variables change according to previous\n",
    "    # Alert icon \n",
    "    if alert_level >=1:\n",
    "        alert_icon = \"1\"\n",
    "    else:\n",
    "        alert_icon = \"0\"\n",
    "\n",
    "    # Alert text\n",
    "    if alert_text == \"\":\n",
    "        alert_text = \"None so far!\"\n",
    "    \n",
    "    # General color of the car\n",
    "    if alert_level == 0:\n",
    "        color =  '#86DC3D' #green\n",
    "    elif alert_level >= 2:\n",
    "        color =  '#ff0000' #red\n",
    "    else:\n",
    "        color = '#ffCD01' #yellow\n",
    "\n",
    "    # --------------- Publish of the metrics\n",
    "    metrics = json.dumps({'color':color,\n",
    "                        \"rain\": rain,\n",
    "                        \"temperature\":temp,\n",
    "                        \"alert_icon\": alert_icon,\n",
    "                        \"alert_text\": alert_text})\n",
    "    \n",
    "    client.publish(\"metrics/exchange\", metrics)\n",
    "    client.loop()\n",
    "    sleep(3)\n",
    "\n",
    "    return\n",
    "    "
   ]
  },
  {
   "cell_type": "markdown",
   "metadata": {},
   "source": [
    "## 4. Smart car implementation\n",
    "\n",
    "Below is a usage diagram of our application and the algorithm needed to run it. The diagram shows how to access the different functionalities of the smart car through the activation and deactivation of the available modes (Driving and Security). To do this, we will need to have the PYNQ connected to the internet in order to use the MQTT functionalities that turn the car on or off and see its status in real time. \n",
    "\n",
    "\n",
    "![Usage Diagram](./Usage_Diagram.png)\n",
    "\n",
    "**Algorithm Execution:**"
   ]
  },
  {
   "cell_type": "code",
   "execution_count": null,
   "metadata": {},
   "outputs": [],
   "source": [
    "power = \"OFF\"\n",
    "ClientConnect()\n",
    "\n",
    "#PYNQ ON (is selected by the switch 0) \n",
    "while base.switches[0].read() == 1: \n",
    "    \n",
    "    client.loop()\n",
    "    switch_parking_mode = base.switches[1].read()\n",
    "    \n",
    "    #DRIVING MODE (power in MQTT app is OFF)\n",
    "    if power == \"ON\": \n",
    "        Headlights()\n",
    "        sleep(0.2)\n",
    "        RainDetector()\n",
    "        \n",
    "        #VOICE ASSISANT (is selected using button 3)\n",
    "        if base.buttons[3].read() == 1:\n",
    "            VoiceAssistant()\n",
    "            \n",
    "        #PARKING MODE (is selected by the switch 1)\n",
    "        while switch_parking_mode == 1: \n",
    "            ParkingAssistant()\n",
    "            switch_parking_mode = base.switches[1].read()\n",
    "        \n",
    "    else: #SECURITY MODE (power in MQTT app is OFF)\n",
    "        ledstick.clear()\n",
    "        HumanDetector()\n",
    "        PublishMetrics()\n",
    "\n",
    "\n",
    "ledstick.clear()\n",
    "client.disconnect()"
   ]
  }
 ],
 "metadata": {
  "kernelspec": {
   "display_name": "Python 3",
   "language": "python",
   "name": "python3"
  },
  "language_info": {
   "codemirror_mode": {
    "name": "ipython",
    "version": 3
   },
   "file_extension": ".py",
   "mimetype": "text/x-python",
   "name": "python",
   "nbconvert_exporter": "python",
   "pygments_lexer": "ipython3",
   "version": "3.6.5"
  }
 },
 "nbformat": 4,
 "nbformat_minor": 2
}
